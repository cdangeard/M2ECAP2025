{
 "cells": [
  {
   "cell_type": "markdown",
   "id": "3086effa",
   "metadata": {},
   "source": [
    "## TP2 : Pré-traitement des données"
   ]
  },
  {
   "cell_type": "markdown",
   "id": "1b02224a",
   "metadata": {},
   "source": [
    "Importez les bibliothèques nécessaires, chargez le jeu de données."
   ]
  },
  {
   "cell_type": "code",
   "execution_count": null,
   "id": "e3bab6f6",
   "metadata": {},
   "outputs": [],
   "source": []
  },
  {
   "cell_type": "markdown",
   "id": "e6daab3b",
   "metadata": {},
   "source": [
    "## Nettoyage des données\n",
    "\n",
    "Supprimez les colonnes inutiles et gérez les valeurs manquantes."
   ]
  },
  {
   "cell_type": "code",
   "execution_count": null,
   "id": "16d28d1b",
   "metadata": {},
   "outputs": [],
   "source": []
  },
  {
   "cell_type": "markdown",
   "id": "63a00735",
   "metadata": {},
   "source": [
    "## Encodage des variables catégorielles\n",
    "\n",
    "Utilisez des techniques d'encodage appropriées pour les variables catégorielles.\n",
    "\n",
    "### Aide :\n",
    "\n",
    "Pour les variables nominales :\n",
    "\n",
    "* [sklearn.preprocessing.LabelEncoder](https://scikit-learn.org/stable/modules/generated/sklearn.preprocessing.LabelEncoder.html)\n",
    "\n",
    "* [pandas.get_dummies](https://pandas.pydata.org/pandas-docs/stable/reference/api/pandas.get_dummies.html)\n",
    "\n",
    "* ... bien d'autres sur [sklearn.preprocessing](https://scikit-learn.org/stable/modules/preprocessing.html#encoding-categorical-features)\n",
    "\n",
    "Pour les variables ordinales :\n",
    "\n",
    "* [sklearn.preprocessing.OrdinalEncoder](https://scikit-learn.org/stable/modules/generated/sklearn.preprocessing.OrdinalEncoder.html) pour les variables ordinales.\n"
   ]
  },
  {
   "cell_type": "code",
   "execution_count": null,
   "id": "ac94d202",
   "metadata": {},
   "outputs": [],
   "source": []
  },
  {
   "cell_type": "code",
   "execution_count": 47,
   "id": "f6e62eeb",
   "metadata": {},
   "outputs": [],
   "source": [
    "encodedHorses.to_csv('data/horse_clean.csv', index=False)"
   ]
  },
  {
   "cell_type": "markdown",
   "id": "5fbea0c2",
   "metadata": {},
   "source": [
    "# Partie 2 : Arbres de décision\n",
    "\n",
    "Par simplicité, nous allons juger nos différents modèle à travers un validation holdout. Nous allons donc séparer notre jeu de données en deux parties : une partie pour l'entrainement et une partie pour le test.\n",
    "\n",
    "Créez 4 variables : `X_train`, `X_test`, `y_train`, `y_test` en utilisant la fonction `train_test_split` de sklearn.\n",
    "\n",
    "[sklearn.model_selection.train_test_split](https://scikit-learn.org/stable/modules/generated/sklearn.model_selection.train_test_split.html)"
   ]
  },
  {
   "cell_type": "code",
   "execution_count": null,
   "id": "3302de78",
   "metadata": {},
   "outputs": [],
   "source": []
  },
  {
   "cell_type": "markdown",
   "id": "842ec6bc",
   "metadata": {},
   "source": [
    "#### Arbre de décision\n",
    "\n",
    "Réalisez un arbre de décision avec la fonction [DecisionTreeClassifier](https://scikit-learn.org/stable/modules/generated/sklearn.tree.DecisionTreeClassifier.html) de sklearn.\n",
    "\n",
    "- Entraînez le modèle sur les données d'entraînement.\n",
    "- Évaluez la performance du modèle sur les données de test en utilisant des métriques telles que l'exactitude, la précision, le rappel et le score F1.\n",
    "- Visualisez l'arbre de décision en utilisant la fonction [plot_tree](https://scikit-learn.org/stable/modules/generated/sklearn.tree.plot_tree.html).\n",
    "- Expérimentez avec différents hyperparamètres de l'arbre de décision (comme la profondeur maximale, le critère de division, etc.) et observez leur impact sur la performance du modèle."
   ]
  },
  {
   "cell_type": "code",
   "execution_count": null,
   "id": "db448fd4",
   "metadata": {},
   "outputs": [],
   "source": []
  },
  {
   "cell_type": "markdown",
   "id": "03c83bcf",
   "metadata": {},
   "source": [
    "## BONUS : Arbres de décision Implémentation"
   ]
  },
  {
   "cell_type": "code",
   "execution_count": null,
   "id": "c0899f7a",
   "metadata": {},
   "outputs": [
    {
     "name": "stdout",
     "output_type": "stream",
     "text": [
      "Accuracy: 1.0\n"
     ]
    }
   ],
   "source": [
    "class ArbreDecision:\n",
    "    \"\"\"\n",
    "    Implémentation simple d'un arbre de décision pour la classification.\n",
    "    À compléter : remplacez les `pass` par votre code.\n",
    "    \"\"\"\n",
    "\n",
    "    def __init__(self, profondeur_max=None):\n",
    "        # Profondeur maximale de l'arbre\n",
    "        self.profondeur_max = profondeur_max\n",
    "        # L'arbre sera construit sous forme de structure imbriquée\n",
    "        self.arbre = None\n",
    "\n",
    "    def fit(self, X, y):\n",
    "        \"\"\"\n",
    "        Entraîne l'arbre de décision sur les données X et les étiquettes y.\n",
    "        \"\"\"\n",
    "        # À compléter\n",
    "        pass\n",
    "\n",
    "    def _gini(self, probabilites):\n",
    "        \"\"\"\n",
    "        Calcule l'indice de Gini pour une liste de probabilités.\n",
    "        \"\"\"\n",
    "        # À compléter\n",
    "        pass\n",
    "    \n",
    "    def _construire_arbre(self, X, y, profondeur):\n",
    "        \"\"\"\n",
    "        Construit récursivement l'arbre de décision.\n",
    "        \"\"\"\n",
    "        # À compléter\n",
    "        pass\n",
    "\n",
    "    def _meilleure_separation(self, X, y, nb_caracteristiques):\n",
    "        \"\"\"\n",
    "        Trouve la meilleure caractéristique et le meilleur seuil pour séparer les données.\n",
    "        \"\"\"\n",
    "        # À compléter\n",
    "        pass\n",
    "\n",
    "    def predict(self, X):\n",
    "        \"\"\"\n",
    "        Prédit la classe pour chaque échantillon de X.\n",
    "        \"\"\"\n",
    "        # À compléter\n",
    "        pass\n",
    "\n",
    "    def _predire_echantillon(self, echantillon, arbre):\n",
    "        \"\"\"\n",
    "        Prédit la classe pour un seul échantillon en parcourant l'arbre.\n",
    "        \"\"\"\n",
    "        # À compléter\n",
    "        pass\n"
   ]
  }
 ],
 "metadata": {
  "kernelspec": {
   "display_name": "tp2025",
   "language": "python",
   "name": "tp2025"
  },
  "language_info": {
   "codemirror_mode": {
    "name": "ipython",
    "version": 3
   },
   "file_extension": ".py",
   "mimetype": "text/x-python",
   "name": "python",
   "nbconvert_exporter": "python",
   "pygments_lexer": "ipython3",
   "version": "3.12.3"
  }
 },
 "nbformat": 4,
 "nbformat_minor": 5
}
